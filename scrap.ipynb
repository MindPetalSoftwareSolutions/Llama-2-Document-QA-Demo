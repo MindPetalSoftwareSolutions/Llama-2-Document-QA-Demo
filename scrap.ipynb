{
 "cells": [
  {
   "cell_type": "code",
   "execution_count": 18,
   "metadata": {},
   "outputs": [],
   "source": [
    "import pytesseract\n",
    "import io, PyPDF2\n",
    "from pdf2image import convert_from_path"
   ]
  },
  {
   "cell_type": "code",
   "execution_count": 36,
   "metadata": {},
   "outputs": [],
   "source": [
    "def transcribe(filepath: str):\n",
    "    images = convert_from_path(filepath)\n",
    "    pdf_writer = PyPDF2.PdfWriter()\n",
    "    for image, i in enumerate(images):\n",
    "        print(f'page {i}')\n",
    "        page = pytesseract.image_to_pdf_or_hocr(image)\n",
    "        pdf = PyPDF2.PdfReader(io.BytesIO(page))\n",
    "        pdf_writer.add_page(pdf.pages[0])\n",
    "    filepath = filepath.replace('.pdf', '_transcribed.pdf')\n",
    "    with open(filepath, 'wb') as f:\n",
    "        pdf_writer.write(f)"
   ]
  },
  {
   "cell_type": "code",
   "execution_count": 35,
   "metadata": {},
   "outputs": [],
   "source": [
    "transcribe('/Users/gdemianverticalapps/Documents/GitHub/Llama-2-Document-QA-Demo/assets/temp_files/PublicWaterMassMailing.pdf')"
   ]
  },
  {
   "cell_type": "code",
   "execution_count": 3,
   "metadata": {},
   "outputs": [],
   "source": [
    "from multipledispatch import dispatch"
   ]
  },
  {
   "cell_type": "code",
   "execution_count": 4,
   "metadata": {},
   "outputs": [],
   "source": [
    "@dispatch()\n",
    "def do():\n",
    "    print(1)\n",
    "\n",
    "@dispatch(int)\n",
    "def do(a):\n",
    "    print(a)"
   ]
  },
  {
   "cell_type": "code",
   "execution_count": 8,
   "metadata": {},
   "outputs": [
    {
     "name": "stdout",
     "output_type": "stream",
     "text": [
      "1\n"
     ]
    }
   ],
   "source": [
    "do()"
   ]
  },
  {
   "cell_type": "code",
   "execution_count": 11,
   "metadata": {},
   "outputs": [
    {
     "data": {
      "text/plain": [
       "'TRUE'"
      ]
     },
     "execution_count": 11,
     "metadata": {},
     "output_type": "execute_result"
    }
   ],
   "source": [
    "str(True).upper()"
   ]
  },
  {
   "cell_type": "code",
   "execution_count": 22,
   "metadata": {},
   "outputs": [
    {
     "name": "stdout",
     "output_type": "stream",
     "text": [
      "True\n",
      "True\n",
      "True\n"
     ]
    }
   ],
   "source": [
    "a = False or True\n",
    "print(a)\n",
    "a = True or False\n",
    "print(a)\n",
    "a = None or a\n",
    "print(a)"
   ]
  },
  {
   "cell_type": "code",
   "execution_count": 2,
   "metadata": {},
   "outputs": [],
   "source": [
    "import os"
   ]
  },
  {
   "cell_type": "code",
   "execution_count": 10,
   "metadata": {},
   "outputs": [],
   "source": [
    "import shutil"
   ]
  },
  {
   "cell_type": "code",
   "execution_count": 11,
   "metadata": {},
   "outputs": [
    {
     "name": "stdout",
     "output_type": "stream",
     "text": [
      "PublicWaterMassMailing.pdf\n",
      "PublicWaterMassMailing\n",
      "removed PublicWaterMassMailing\n"
     ]
    }
   ],
   "source": [
    "for filename in os.listdir('assets/temp_files/'):\n",
    "    print(filename)\n",
    "    if filename != 'PublicWaterMassMailing.pdf':\n",
    "        print(f'removed {filename}')\n",
    "        shutil.rmtree('assets/temp_files/'+filename)"
   ]
  },
  {
   "cell_type": "code",
   "execution_count": 9,
   "metadata": {},
   "outputs": [
    {
     "name": "stdout",
     "output_type": "stream",
     "text": [
      "PublicWaterMassMailing.pdf\n",
      "PublicWaterMassMailing\n",
      "removed PublicWaterMassMailing\n"
     ]
    },
    {
     "ename": "OSError",
     "evalue": "[Errno 66] Directory not empty: 'assets/temp_files/PublicWaterMassMailing'",
     "output_type": "error",
     "traceback": [
      "\u001b[0;31m---------------------------------------------------------------------------\u001b[0m",
      "\u001b[0;31mOSError\u001b[0m                                   Traceback (most recent call last)",
      "Cell \u001b[0;32mIn[9], line 5\u001b[0m\n\u001b[1;32m      3\u001b[0m \u001b[39mif\u001b[39;00m filename \u001b[39m!=\u001b[39m \u001b[39m'\u001b[39m\u001b[39mPublicWaterMassMailing.pdf\u001b[39m\u001b[39m'\u001b[39m:\n\u001b[1;32m      4\u001b[0m     \u001b[39mprint\u001b[39m(\u001b[39mf\u001b[39m\u001b[39m'\u001b[39m\u001b[39mremoved \u001b[39m\u001b[39m{\u001b[39;00mfilename\u001b[39m}\u001b[39;00m\u001b[39m'\u001b[39m)\n\u001b[0;32m----> 5\u001b[0m     os\u001b[39m.\u001b[39;49mremovedirs(\u001b[39m'\u001b[39;49m\u001b[39massets/temp_files/\u001b[39;49m\u001b[39m'\u001b[39;49m\u001b[39m+\u001b[39;49mfilename)\n",
      "File \u001b[0;32m~/.pyenv/versions/3.10.10/lib/python3.10/os.py:243\u001b[0m, in \u001b[0;36mremovedirs\u001b[0;34m(name)\u001b[0m\n\u001b[1;32m    232\u001b[0m \u001b[39mdef\u001b[39;00m \u001b[39mremovedirs\u001b[39m(name):\n\u001b[1;32m    233\u001b[0m \u001b[39m    \u001b[39m\u001b[39m\"\"\"removedirs(name)\u001b[39;00m\n\u001b[1;32m    234\u001b[0m \n\u001b[1;32m    235\u001b[0m \u001b[39m    Super-rmdir; remove a leaf directory and all empty intermediate\u001b[39;00m\n\u001b[0;32m   (...)\u001b[0m\n\u001b[1;32m    241\u001b[0m \n\u001b[1;32m    242\u001b[0m \u001b[39m    \"\"\"\u001b[39;00m\n\u001b[0;32m--> 243\u001b[0m     rmdir(name)\n\u001b[1;32m    244\u001b[0m     head, tail \u001b[39m=\u001b[39m path\u001b[39m.\u001b[39msplit(name)\n\u001b[1;32m    245\u001b[0m     \u001b[39mif\u001b[39;00m \u001b[39mnot\u001b[39;00m tail:\n",
      "\u001b[0;31mOSError\u001b[0m: [Errno 66] Directory not empty: 'assets/temp_files/PublicWaterMassMailing'"
     ]
    }
   ],
   "source": [
    "for filename in os.listdir('assets/temp_files/'):\n",
    "    print(filename)\n",
    "    if filename != 'PublicWaterMassMailing.pdf':\n",
    "        print(f'removed {filename}')\n",
    "        os.remove('assets/temp_files/'+filename)"
   ]
  },
  {
   "cell_type": "code",
   "execution_count": null,
   "metadata": {},
   "outputs": [],
   "source": []
  }
 ],
 "metadata": {
  "kernelspec": {
   "display_name": "llama-qa",
   "language": "python",
   "name": "python3"
  },
  "language_info": {
   "codemirror_mode": {
    "name": "ipython",
    "version": 3
   },
   "file_extension": ".py",
   "mimetype": "text/x-python",
   "name": "python",
   "nbconvert_exporter": "python",
   "pygments_lexer": "ipython3",
   "version": "3.10.10"
  },
  "orig_nbformat": 4
 },
 "nbformat": 4,
 "nbformat_minor": 2
}
