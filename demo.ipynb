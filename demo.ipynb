{
 "cells": [
  {
   "cell_type": "markdown",
   "metadata": {},
   "source": [
    "![diagram](https://github.com/VerticalApps-DevOps/Llama-2-Document-QA-Demo/blob/main/assets/diagram_flow.png)"
   ]
  },
  {
   "cell_type": "markdown",
   "metadata": {},
   "source": [
    "[Sample pdf](https://github.com/gdemian/Llama-2-Document-QA-Demo/blob/main/data/manu-20f-2022-09-24.pdf)"
   ]
  },
  {
   "cell_type": "code",
   "execution_count": 1,
   "metadata": {},
   "outputs": [],
   "source": [
    "from main import query, log_response"
   ]
  },
  {
   "cell_type": "code",
   "execution_count": 2,
   "metadata": {},
   "outputs": [
    {
     "name": "stdout",
     "output_type": "stream",
     "text": [
      "====================================================================================================\n",
      "query: How much is the minimum guarantee payable by adidas?\n",
      "result: £750 million\n",
      "time: 13.16 seconds\n",
      "====================================================================================================\n",
      "Relevant text sample #1 from page #84:\n",
      "The minimum guarantee payable by adidas over the term of our agreement with them is equal to\n",
      "====================================================================================================\n",
      "Relevant text sample #2 from page #74:\n",
      "Pursuant to our contract with adidas, which began on 1 August 2015, the minimum guarantee payable\n",
      "====================================================================================================\n",
      "Relevant text sample #3 from page #52:\n",
      "branded licensing rights, which began on 1 August 2015. The minimum guarantee payable by adidas overthe term of the agreement is equal to £750 million, subject to certain adjustments. Payments due in\n",
      "====================================================================================================\n",
      "Relevant text sample #4 from page #117:\n",
      "the minimum guarantee amount that will most likely bereceived under the adidas contract. This, in turn led to a high degree of auditor judgment, subjectivity andeffort in performing procedures to\n",
      "====================================================================================================\n",
      "Relevant text sample #5 from page #117:\n",
      "to global technical sponsorship and dual-branded licensing rights,which began on 1 August 2015. The minimum guarantee payable by adidas over the term of the agreementis £750 million, subject to\n",
      "====================================================================================================\n"
     ]
    }
   ],
   "source": [
    "_=query(\"How much is the minimum guarantee payable by adidas?\")\n",
    "log_response(_)"
   ]
  },
  {
   "cell_type": "code",
   "execution_count": 3,
   "metadata": {},
   "outputs": [
    {
     "name": "stdout",
     "output_type": "stream",
     "text": [
      "====================================================================================================\n",
      "query: What is the name of the registrant company?\n",
      "result: MANCHESTER UNITED plc\n",
      "time: 13.63 seconds\n",
      "====================================================================================================\n",
      "Relevant text sample #1 from page #0:\n",
      "MANCHESTER UNITED plc\n",
      "(Exact name of Registrant as specified in its charter)\n",
      "Not Applicable\n",
      "(Translation of Registrant’s name into English)\n",
      "Cayman Islands\n",
      "====================================================================================================\n",
      "Relevant text sample #2 from page #171:\n",
      "in the United States. The registered office or principalexecutive office of all the above, with the exception of RAML USA LLC, is Sir Matt Busby Way, OldTrafford, Manchester, M16 0RA, United Kingdom.\n",
      "====================================================================================================\n",
      "Relevant text sample #3 from page #37:\n",
      "licensing, broadcasting and Matchday. We attract leading global companies such asadidas, DXC, Kohler, TeamViewer and Tezos that want access and exposure to our community of followersand association\n",
      "====================================================================================================\n",
      "Relevant text sample #4 from page #41:\n",
      "Our e-commerce platform, ‘United Direct’ is currently operated under license by Fanatics in close\n",
      "====================================================================================================\n",
      "Relevant text sample #5 from page #22:\n",
      "logo,and our logo and trade name are registered as trademarks (or are the subject of applications for registration)in a number of jurisdictions in Europe, Asia Pacific, Africa, North America and\n",
      "====================================================================================================\n"
     ]
    }
   ],
   "source": [
    "_=query(\"What is the name of the registrant company?\")\n",
    "log_response(_)"
   ]
  },
  {
   "cell_type": "code",
   "execution_count": 4,
   "metadata": {},
   "outputs": [
    {
     "name": "stdout",
     "output_type": "stream",
     "text": [
      "====================================================================================================\n",
      "query: Who is the 'Chief Executive Officer'?\n",
      "result: Richard Arnold\n",
      "time: 9.88 seconds\n",
      "====================================================================================================\n",
      "Relevant text sample #1 from page #108:\n",
      "of the executive board of management, which is responsiblefor the management of the internal controls, and which includes the Principal Executive Officer and thePrincipal Financial Officer. There are\n",
      "====================================================================================================\n",
      "Relevant text sample #2 from page #176:\n",
      "Name: Richard Arnold\n",
      "Title: Chief Executive Officer\n",
      "====================================================================================================\n",
      "Relevant text sample #3 from page #86:\n",
      "Joel Glazer .................. 5 5 E x ecutive Co-Chairman and Director May 2012\n",
      "Richard Arnold .............. 5 1 Chief Executive Officer and Director August 2012\n",
      "====================================================================================================\n",
      "Relevant text sample #4 from page #113:\n",
      "Certification of Principal Executive Officer pursuant to 18 U.S.C. Section 1350, as adopted\n",
      "====================================================================================================\n",
      "Relevant text sample #5 from page #160:\n",
      "Certain directors, members of executive management and selected employees have been awarded\n",
      "====================================================================================================\n"
     ]
    }
   ],
   "source": [
    "_=query(\"Who is the 'Chief Executive Officer'?\")\n",
    "log_response(_)"
   ]
  },
  {
   "cell_type": "code",
   "execution_count": 5,
   "metadata": {},
   "outputs": [
    {
     "name": "stdout",
     "output_type": "stream",
     "text": [
      "====================================================================================================\n",
      "query: What was the date of the last audit performed?\n",
      "result: June 30, 2022\n",
      "time: 13.7 seconds\n",
      "====================================================================================================\n",
      "Relevant text sample #1 from page #109:\n",
      "Our internal control over financial reporting as of 30 June 2022 has been audited by\n",
      "====================================================================================================\n",
      "Relevant text sample #2 from page #109:\n",
      "Audit Fees\n",
      "Audit fees for the years ended 30 June 2022 and 2021 were related to the audit of our consolidated and\n",
      "====================================================================================================\n",
      "Relevant text sample #3 from page #112:\n",
      "preceding the audited consolidated financial statements.\n",
      "====================================================================================================\n",
      "Relevant text sample #4 from page #5:\n",
      "ended 30 June 2022, 2021, 2020, 2019 and 2018 has been derivedfrom our audited consolidated financial statements and the notes thereto (our audited consolidated financialstatements as of and for the\n",
      "====================================================================================================\n",
      "Relevant text sample #5 from page #84:\n",
      "does not consider to involve critical estimates and judgments, see Notes 4.3(ii) and (iii) to our auditedconsolidated financial statements as of 30 June 2022 and 2021 and for the years ended 30 June\n",
      "====================================================================================================\n"
     ]
    }
   ],
   "source": [
    "_=query(\"What was the date of the last audit performed?\")\n",
    "log_response(_)"
   ]
  },
  {
   "cell_type": "code",
   "execution_count": null,
   "metadata": {},
   "outputs": [],
   "source": []
  }
 ],
 "metadata": {
  "kernelspec": {
   "display_name": "llama-qa",
   "language": "python",
   "name": "python3"
  },
  "language_info": {
   "codemirror_mode": {
    "name": "ipython",
    "version": 3
   },
   "file_extension": ".py",
   "mimetype": "text/x-python",
   "name": "python",
   "nbconvert_exporter": "python",
   "pygments_lexer": "ipython3",
   "version": "3.10.10"
  },
  "orig_nbformat": 4
 },
 "nbformat": 4,
 "nbformat_minor": 2
}
